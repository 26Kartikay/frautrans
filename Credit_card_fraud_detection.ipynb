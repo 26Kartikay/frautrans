{
 "cells": [
  {
   "cell_type": "markdown",
   "id": "62b2a989",
   "metadata": {},
   "source": []
  },
  {
   "cell_type": "code",
   "execution_count": 72,
   "id": "8708fa7c",
   "metadata": {},
   "outputs": [],
   "source": [
    "#importing dependencies\n",
    "import numpy as np\n",
    "import pandas as pd\n",
    "from sklearn.model_selection import train_test_split\n",
    "from sklearn.linear_model import LogisticRegression\n",
    "from sklearn.metrics import accuracy_score\n",
    "import matplotlib.pyplot as plt\n",
    "import seaborn as sns"
   ]
  },
  {
   "cell_type": "code",
   "execution_count": 73,
   "id": "527fec40",
   "metadata": {},
   "outputs": [],
   "source": [
    "#loading the data set , to pandas dataframe\n",
    "credit_card_data=pd.read_csv('fraud.csv')"
   ]
  },
  {
   "cell_type": "code",
   "execution_count": 74,
   "id": "0a586564",
   "metadata": {},
   "outputs": [
    {
     "data": {
      "text/html": [
       "<div>\n",
       "<style scoped>\n",
       "    .dataframe tbody tr th:only-of-type {\n",
       "        vertical-align: middle;\n",
       "    }\n",
       "\n",
       "    .dataframe tbody tr th {\n",
       "        vertical-align: top;\n",
       "    }\n",
       "\n",
       "    .dataframe thead th {\n",
       "        text-align: right;\n",
       "    }\n",
       "</style>\n",
       "<table border=\"1\" class=\"dataframe\">\n",
       "  <thead>\n",
       "    <tr style=\"text-align: right;\">\n",
       "      <th></th>\n",
       "      <th>step</th>\n",
       "      <th>type</th>\n",
       "      <th>amount</th>\n",
       "      <th>nameOrig</th>\n",
       "      <th>oldbalanceOrg</th>\n",
       "      <th>newbalanceOrig</th>\n",
       "      <th>nameDest</th>\n",
       "      <th>oldbalanceDest</th>\n",
       "      <th>newbalanceDest</th>\n",
       "      <th>isFraud</th>\n",
       "      <th>isFlaggedFraud</th>\n",
       "    </tr>\n",
       "  </thead>\n",
       "  <tbody>\n",
       "    <tr>\n",
       "      <th>0</th>\n",
       "      <td>1</td>\n",
       "      <td>PAYMENT</td>\n",
       "      <td>9839.64</td>\n",
       "      <td>C1231006815</td>\n",
       "      <td>170136.0</td>\n",
       "      <td>160296.36</td>\n",
       "      <td>M1979787155</td>\n",
       "      <td>0.0</td>\n",
       "      <td>0.0</td>\n",
       "      <td>0</td>\n",
       "      <td>0</td>\n",
       "    </tr>\n",
       "    <tr>\n",
       "      <th>1</th>\n",
       "      <td>1</td>\n",
       "      <td>PAYMENT</td>\n",
       "      <td>1864.28</td>\n",
       "      <td>C1666544295</td>\n",
       "      <td>21249.0</td>\n",
       "      <td>19384.72</td>\n",
       "      <td>M2044282225</td>\n",
       "      <td>0.0</td>\n",
       "      <td>0.0</td>\n",
       "      <td>0</td>\n",
       "      <td>0</td>\n",
       "    </tr>\n",
       "    <tr>\n",
       "      <th>2</th>\n",
       "      <td>1</td>\n",
       "      <td>TRANSFER</td>\n",
       "      <td>181.00</td>\n",
       "      <td>C1305486145</td>\n",
       "      <td>181.0</td>\n",
       "      <td>0.00</td>\n",
       "      <td>C553264065</td>\n",
       "      <td>0.0</td>\n",
       "      <td>0.0</td>\n",
       "      <td>1</td>\n",
       "      <td>0</td>\n",
       "    </tr>\n",
       "    <tr>\n",
       "      <th>3</th>\n",
       "      <td>1</td>\n",
       "      <td>CASH_OUT</td>\n",
       "      <td>181.00</td>\n",
       "      <td>C840083671</td>\n",
       "      <td>181.0</td>\n",
       "      <td>0.00</td>\n",
       "      <td>C38997010</td>\n",
       "      <td>21182.0</td>\n",
       "      <td>0.0</td>\n",
       "      <td>1</td>\n",
       "      <td>0</td>\n",
       "    </tr>\n",
       "    <tr>\n",
       "      <th>4</th>\n",
       "      <td>1</td>\n",
       "      <td>PAYMENT</td>\n",
       "      <td>11668.14</td>\n",
       "      <td>C2048537720</td>\n",
       "      <td>41554.0</td>\n",
       "      <td>29885.86</td>\n",
       "      <td>M1230701703</td>\n",
       "      <td>0.0</td>\n",
       "      <td>0.0</td>\n",
       "      <td>0</td>\n",
       "      <td>0</td>\n",
       "    </tr>\n",
       "  </tbody>\n",
       "</table>\n",
       "</div>"
      ],
      "text/plain": [
       "   step      type    amount     nameOrig  oldbalanceOrg  newbalanceOrig  \\\n",
       "0     1   PAYMENT   9839.64  C1231006815       170136.0       160296.36   \n",
       "1     1   PAYMENT   1864.28  C1666544295        21249.0        19384.72   \n",
       "2     1  TRANSFER    181.00  C1305486145          181.0            0.00   \n",
       "3     1  CASH_OUT    181.00   C840083671          181.0            0.00   \n",
       "4     1   PAYMENT  11668.14  C2048537720        41554.0        29885.86   \n",
       "\n",
       "      nameDest  oldbalanceDest  newbalanceDest  isFraud  isFlaggedFraud  \n",
       "0  M1979787155             0.0             0.0        0               0  \n",
       "1  M2044282225             0.0             0.0        0               0  \n",
       "2   C553264065             0.0             0.0        1               0  \n",
       "3    C38997010         21182.0             0.0        1               0  \n",
       "4  M1230701703             0.0             0.0        0               0  "
      ]
     },
     "execution_count": 74,
     "metadata": {},
     "output_type": "execute_result"
    }
   ],
   "source": [
    "credit_card_data.head()"
   ]
  },
  {
   "cell_type": "code",
   "execution_count": 75,
   "id": "0b5093ea",
   "metadata": {},
   "outputs": [
    {
     "data": {
      "text/html": [
       "<div>\n",
       "<style scoped>\n",
       "    .dataframe tbody tr th:only-of-type {\n",
       "        vertical-align: middle;\n",
       "    }\n",
       "\n",
       "    .dataframe tbody tr th {\n",
       "        vertical-align: top;\n",
       "    }\n",
       "\n",
       "    .dataframe thead th {\n",
       "        text-align: right;\n",
       "    }\n",
       "</style>\n",
       "<table border=\"1\" class=\"dataframe\">\n",
       "  <thead>\n",
       "    <tr style=\"text-align: right;\">\n",
       "      <th></th>\n",
       "      <th>step</th>\n",
       "      <th>type</th>\n",
       "      <th>amount</th>\n",
       "      <th>nameOrig</th>\n",
       "      <th>oldbalanceOrg</th>\n",
       "      <th>newbalanceOrig</th>\n",
       "      <th>nameDest</th>\n",
       "      <th>oldbalanceDest</th>\n",
       "      <th>newbalanceDest</th>\n",
       "      <th>isFraud</th>\n",
       "      <th>isFlaggedFraud</th>\n",
       "    </tr>\n",
       "  </thead>\n",
       "  <tbody>\n",
       "    <tr>\n",
       "      <th>6362590</th>\n",
       "      <td>741</td>\n",
       "      <td>TRANSFER</td>\n",
       "      <td>323726.61</td>\n",
       "      <td>C509686434</td>\n",
       "      <td>323726.61</td>\n",
       "      <td>0.0</td>\n",
       "      <td>C1310143791</td>\n",
       "      <td>0.00</td>\n",
       "      <td>0.00</td>\n",
       "      <td>1</td>\n",
       "      <td>0</td>\n",
       "    </tr>\n",
       "    <tr>\n",
       "      <th>6362591</th>\n",
       "      <td>741</td>\n",
       "      <td>CASH_OUT</td>\n",
       "      <td>323726.61</td>\n",
       "      <td>C919525792</td>\n",
       "      <td>323726.61</td>\n",
       "      <td>0.0</td>\n",
       "      <td>C993635374</td>\n",
       "      <td>561753.58</td>\n",
       "      <td>885480.19</td>\n",
       "      <td>1</td>\n",
       "      <td>0</td>\n",
       "    </tr>\n",
       "    <tr>\n",
       "      <th>6362592</th>\n",
       "      <td>741</td>\n",
       "      <td>TRANSFER</td>\n",
       "      <td>383661.10</td>\n",
       "      <td>C457476945</td>\n",
       "      <td>383661.10</td>\n",
       "      <td>0.0</td>\n",
       "      <td>C1688658215</td>\n",
       "      <td>0.00</td>\n",
       "      <td>0.00</td>\n",
       "      <td>1</td>\n",
       "      <td>0</td>\n",
       "    </tr>\n",
       "    <tr>\n",
       "      <th>6362593</th>\n",
       "      <td>741</td>\n",
       "      <td>CASH_OUT</td>\n",
       "      <td>383661.10</td>\n",
       "      <td>C369315575</td>\n",
       "      <td>383661.10</td>\n",
       "      <td>0.0</td>\n",
       "      <td>C2069429837</td>\n",
       "      <td>1788112.70</td>\n",
       "      <td>2171773.80</td>\n",
       "      <td>1</td>\n",
       "      <td>0</td>\n",
       "    </tr>\n",
       "    <tr>\n",
       "      <th>6362594</th>\n",
       "      <td>741</td>\n",
       "      <td>TRANSFER</td>\n",
       "      <td>144945.34</td>\n",
       "      <td>C31496887</td>\n",
       "      <td>144945.34</td>\n",
       "      <td>0.0</td>\n",
       "      <td>C1251365829</td>\n",
       "      <td>0.00</td>\n",
       "      <td>0.00</td>\n",
       "      <td>1</td>\n",
       "      <td>0</td>\n",
       "    </tr>\n",
       "    <tr>\n",
       "      <th>6362595</th>\n",
       "      <td>741</td>\n",
       "      <td>CASH_OUT</td>\n",
       "      <td>144945.34</td>\n",
       "      <td>C1092829426</td>\n",
       "      <td>144945.34</td>\n",
       "      <td>0.0</td>\n",
       "      <td>C716019997</td>\n",
       "      <td>0.00</td>\n",
       "      <td>144945.34</td>\n",
       "      <td>1</td>\n",
       "      <td>0</td>\n",
       "    </tr>\n",
       "    <tr>\n",
       "      <th>6362596</th>\n",
       "      <td>741</td>\n",
       "      <td>TRANSFER</td>\n",
       "      <td>48442.88</td>\n",
       "      <td>C1112979339</td>\n",
       "      <td>48442.88</td>\n",
       "      <td>0.0</td>\n",
       "      <td>C2114078084</td>\n",
       "      <td>0.00</td>\n",
       "      <td>0.00</td>\n",
       "      <td>1</td>\n",
       "      <td>0</td>\n",
       "    </tr>\n",
       "    <tr>\n",
       "      <th>6362597</th>\n",
       "      <td>741</td>\n",
       "      <td>CASH_OUT</td>\n",
       "      <td>48442.88</td>\n",
       "      <td>C1706094385</td>\n",
       "      <td>48442.88</td>\n",
       "      <td>0.0</td>\n",
       "      <td>C2109905271</td>\n",
       "      <td>513746.19</td>\n",
       "      <td>562189.07</td>\n",
       "      <td>1</td>\n",
       "      <td>0</td>\n",
       "    </tr>\n",
       "    <tr>\n",
       "      <th>6362598</th>\n",
       "      <td>742</td>\n",
       "      <td>TRANSFER</td>\n",
       "      <td>4009058.39</td>\n",
       "      <td>C1044665079</td>\n",
       "      <td>4009058.39</td>\n",
       "      <td>0.0</td>\n",
       "      <td>C750074708</td>\n",
       "      <td>0.00</td>\n",
       "      <td>0.00</td>\n",
       "      <td>1</td>\n",
       "      <td>0</td>\n",
       "    </tr>\n",
       "    <tr>\n",
       "      <th>6362599</th>\n",
       "      <td>742</td>\n",
       "      <td>CASH_OUT</td>\n",
       "      <td>4009058.39</td>\n",
       "      <td>C1970706589</td>\n",
       "      <td>4009058.39</td>\n",
       "      <td>0.0</td>\n",
       "      <td>C637394241</td>\n",
       "      <td>1229761.96</td>\n",
       "      <td>5238820.34</td>\n",
       "      <td>1</td>\n",
       "      <td>0</td>\n",
       "    </tr>\n",
       "    <tr>\n",
       "      <th>6362600</th>\n",
       "      <td>742</td>\n",
       "      <td>TRANSFER</td>\n",
       "      <td>652993.91</td>\n",
       "      <td>C40604503</td>\n",
       "      <td>652993.91</td>\n",
       "      <td>0.0</td>\n",
       "      <td>C1166857907</td>\n",
       "      <td>0.00</td>\n",
       "      <td>0.00</td>\n",
       "      <td>1</td>\n",
       "      <td>0</td>\n",
       "    </tr>\n",
       "    <tr>\n",
       "      <th>6362601</th>\n",
       "      <td>742</td>\n",
       "      <td>CASH_OUT</td>\n",
       "      <td>652993.91</td>\n",
       "      <td>C1614818636</td>\n",
       "      <td>652993.91</td>\n",
       "      <td>0.0</td>\n",
       "      <td>C362803701</td>\n",
       "      <td>0.00</td>\n",
       "      <td>652993.91</td>\n",
       "      <td>1</td>\n",
       "      <td>0</td>\n",
       "    </tr>\n",
       "    <tr>\n",
       "      <th>6362602</th>\n",
       "      <td>742</td>\n",
       "      <td>TRANSFER</td>\n",
       "      <td>1819543.69</td>\n",
       "      <td>C2089752665</td>\n",
       "      <td>1819543.69</td>\n",
       "      <td>0.0</td>\n",
       "      <td>C112833674</td>\n",
       "      <td>0.00</td>\n",
       "      <td>0.00</td>\n",
       "      <td>1</td>\n",
       "      <td>0</td>\n",
       "    </tr>\n",
       "    <tr>\n",
       "      <th>6362603</th>\n",
       "      <td>742</td>\n",
       "      <td>CASH_OUT</td>\n",
       "      <td>1819543.69</td>\n",
       "      <td>C1039979813</td>\n",
       "      <td>1819543.69</td>\n",
       "      <td>0.0</td>\n",
       "      <td>C2078394828</td>\n",
       "      <td>0.00</td>\n",
       "      <td>1819543.69</td>\n",
       "      <td>1</td>\n",
       "      <td>0</td>\n",
       "    </tr>\n",
       "    <tr>\n",
       "      <th>6362604</th>\n",
       "      <td>742</td>\n",
       "      <td>TRANSFER</td>\n",
       "      <td>54652.46</td>\n",
       "      <td>C1674778854</td>\n",
       "      <td>54652.46</td>\n",
       "      <td>0.0</td>\n",
       "      <td>C1930074465</td>\n",
       "      <td>0.00</td>\n",
       "      <td>0.00</td>\n",
       "      <td>1</td>\n",
       "      <td>0</td>\n",
       "    </tr>\n",
       "    <tr>\n",
       "      <th>6362605</th>\n",
       "      <td>742</td>\n",
       "      <td>CASH_OUT</td>\n",
       "      <td>54652.46</td>\n",
       "      <td>C43545501</td>\n",
       "      <td>54652.46</td>\n",
       "      <td>0.0</td>\n",
       "      <td>C830041824</td>\n",
       "      <td>0.00</td>\n",
       "      <td>54652.46</td>\n",
       "      <td>1</td>\n",
       "      <td>0</td>\n",
       "    </tr>\n",
       "    <tr>\n",
       "      <th>6362606</th>\n",
       "      <td>742</td>\n",
       "      <td>TRANSFER</td>\n",
       "      <td>303846.74</td>\n",
       "      <td>C959102961</td>\n",
       "      <td>303846.74</td>\n",
       "      <td>0.0</td>\n",
       "      <td>C114421319</td>\n",
       "      <td>0.00</td>\n",
       "      <td>0.00</td>\n",
       "      <td>1</td>\n",
       "      <td>0</td>\n",
       "    </tr>\n",
       "    <tr>\n",
       "      <th>6362607</th>\n",
       "      <td>742</td>\n",
       "      <td>CASH_OUT</td>\n",
       "      <td>303846.74</td>\n",
       "      <td>C1148860488</td>\n",
       "      <td>303846.74</td>\n",
       "      <td>0.0</td>\n",
       "      <td>C846260566</td>\n",
       "      <td>343660.89</td>\n",
       "      <td>647507.63</td>\n",
       "      <td>1</td>\n",
       "      <td>0</td>\n",
       "    </tr>\n",
       "    <tr>\n",
       "      <th>6362608</th>\n",
       "      <td>742</td>\n",
       "      <td>TRANSFER</td>\n",
       "      <td>258355.42</td>\n",
       "      <td>C1226129332</td>\n",
       "      <td>258355.42</td>\n",
       "      <td>0.0</td>\n",
       "      <td>C1744173808</td>\n",
       "      <td>0.00</td>\n",
       "      <td>0.00</td>\n",
       "      <td>1</td>\n",
       "      <td>0</td>\n",
       "    </tr>\n",
       "    <tr>\n",
       "      <th>6362609</th>\n",
       "      <td>742</td>\n",
       "      <td>CASH_OUT</td>\n",
       "      <td>258355.42</td>\n",
       "      <td>C1113162093</td>\n",
       "      <td>258355.42</td>\n",
       "      <td>0.0</td>\n",
       "      <td>C797688696</td>\n",
       "      <td>25176.67</td>\n",
       "      <td>283532.09</td>\n",
       "      <td>1</td>\n",
       "      <td>0</td>\n",
       "    </tr>\n",
       "    <tr>\n",
       "      <th>6362610</th>\n",
       "      <td>742</td>\n",
       "      <td>TRANSFER</td>\n",
       "      <td>63416.99</td>\n",
       "      <td>C778071008</td>\n",
       "      <td>63416.99</td>\n",
       "      <td>0.0</td>\n",
       "      <td>C1812552860</td>\n",
       "      <td>0.00</td>\n",
       "      <td>0.00</td>\n",
       "      <td>1</td>\n",
       "      <td>0</td>\n",
       "    </tr>\n",
       "    <tr>\n",
       "      <th>6362611</th>\n",
       "      <td>742</td>\n",
       "      <td>CASH_OUT</td>\n",
       "      <td>63416.99</td>\n",
       "      <td>C994950684</td>\n",
       "      <td>63416.99</td>\n",
       "      <td>0.0</td>\n",
       "      <td>C1662241365</td>\n",
       "      <td>276433.18</td>\n",
       "      <td>339850.17</td>\n",
       "      <td>1</td>\n",
       "      <td>0</td>\n",
       "    </tr>\n",
       "    <tr>\n",
       "      <th>6362612</th>\n",
       "      <td>743</td>\n",
       "      <td>TRANSFER</td>\n",
       "      <td>1258818.82</td>\n",
       "      <td>C1531301470</td>\n",
       "      <td>1258818.82</td>\n",
       "      <td>0.0</td>\n",
       "      <td>C1470998563</td>\n",
       "      <td>0.00</td>\n",
       "      <td>0.00</td>\n",
       "      <td>1</td>\n",
       "      <td>0</td>\n",
       "    </tr>\n",
       "    <tr>\n",
       "      <th>6362613</th>\n",
       "      <td>743</td>\n",
       "      <td>CASH_OUT</td>\n",
       "      <td>1258818.82</td>\n",
       "      <td>C1436118706</td>\n",
       "      <td>1258818.82</td>\n",
       "      <td>0.0</td>\n",
       "      <td>C1240760502</td>\n",
       "      <td>503464.50</td>\n",
       "      <td>1762283.33</td>\n",
       "      <td>1</td>\n",
       "      <td>0</td>\n",
       "    </tr>\n",
       "    <tr>\n",
       "      <th>6362614</th>\n",
       "      <td>743</td>\n",
       "      <td>TRANSFER</td>\n",
       "      <td>339682.13</td>\n",
       "      <td>C2013999242</td>\n",
       "      <td>339682.13</td>\n",
       "      <td>0.0</td>\n",
       "      <td>C1850423904</td>\n",
       "      <td>0.00</td>\n",
       "      <td>0.00</td>\n",
       "      <td>1</td>\n",
       "      <td>0</td>\n",
       "    </tr>\n",
       "    <tr>\n",
       "      <th>6362615</th>\n",
       "      <td>743</td>\n",
       "      <td>CASH_OUT</td>\n",
       "      <td>339682.13</td>\n",
       "      <td>C786484425</td>\n",
       "      <td>339682.13</td>\n",
       "      <td>0.0</td>\n",
       "      <td>C776919290</td>\n",
       "      <td>0.00</td>\n",
       "      <td>339682.13</td>\n",
       "      <td>1</td>\n",
       "      <td>0</td>\n",
       "    </tr>\n",
       "    <tr>\n",
       "      <th>6362616</th>\n",
       "      <td>743</td>\n",
       "      <td>TRANSFER</td>\n",
       "      <td>6311409.28</td>\n",
       "      <td>C1529008245</td>\n",
       "      <td>6311409.28</td>\n",
       "      <td>0.0</td>\n",
       "      <td>C1881841831</td>\n",
       "      <td>0.00</td>\n",
       "      <td>0.00</td>\n",
       "      <td>1</td>\n",
       "      <td>0</td>\n",
       "    </tr>\n",
       "    <tr>\n",
       "      <th>6362617</th>\n",
       "      <td>743</td>\n",
       "      <td>CASH_OUT</td>\n",
       "      <td>6311409.28</td>\n",
       "      <td>C1162922333</td>\n",
       "      <td>6311409.28</td>\n",
       "      <td>0.0</td>\n",
       "      <td>C1365125890</td>\n",
       "      <td>68488.84</td>\n",
       "      <td>6379898.11</td>\n",
       "      <td>1</td>\n",
       "      <td>0</td>\n",
       "    </tr>\n",
       "    <tr>\n",
       "      <th>6362618</th>\n",
       "      <td>743</td>\n",
       "      <td>TRANSFER</td>\n",
       "      <td>850002.52</td>\n",
       "      <td>C1685995037</td>\n",
       "      <td>850002.52</td>\n",
       "      <td>0.0</td>\n",
       "      <td>C2080388513</td>\n",
       "      <td>0.00</td>\n",
       "      <td>0.00</td>\n",
       "      <td>1</td>\n",
       "      <td>0</td>\n",
       "    </tr>\n",
       "    <tr>\n",
       "      <th>6362619</th>\n",
       "      <td>743</td>\n",
       "      <td>CASH_OUT</td>\n",
       "      <td>850002.52</td>\n",
       "      <td>C1280323807</td>\n",
       "      <td>850002.52</td>\n",
       "      <td>0.0</td>\n",
       "      <td>C873221189</td>\n",
       "      <td>6510099.11</td>\n",
       "      <td>7360101.63</td>\n",
       "      <td>1</td>\n",
       "      <td>0</td>\n",
       "    </tr>\n",
       "  </tbody>\n",
       "</table>\n",
       "</div>"
      ],
      "text/plain": [
       "         step      type      amount     nameOrig  oldbalanceOrg  \\\n",
       "6362590   741  TRANSFER   323726.61   C509686434      323726.61   \n",
       "6362591   741  CASH_OUT   323726.61   C919525792      323726.61   \n",
       "6362592   741  TRANSFER   383661.10   C457476945      383661.10   \n",
       "6362593   741  CASH_OUT   383661.10   C369315575      383661.10   \n",
       "6362594   741  TRANSFER   144945.34    C31496887      144945.34   \n",
       "6362595   741  CASH_OUT   144945.34  C1092829426      144945.34   \n",
       "6362596   741  TRANSFER    48442.88  C1112979339       48442.88   \n",
       "6362597   741  CASH_OUT    48442.88  C1706094385       48442.88   \n",
       "6362598   742  TRANSFER  4009058.39  C1044665079     4009058.39   \n",
       "6362599   742  CASH_OUT  4009058.39  C1970706589     4009058.39   \n",
       "6362600   742  TRANSFER   652993.91    C40604503      652993.91   \n",
       "6362601   742  CASH_OUT   652993.91  C1614818636      652993.91   \n",
       "6362602   742  TRANSFER  1819543.69  C2089752665     1819543.69   \n",
       "6362603   742  CASH_OUT  1819543.69  C1039979813     1819543.69   \n",
       "6362604   742  TRANSFER    54652.46  C1674778854       54652.46   \n",
       "6362605   742  CASH_OUT    54652.46    C43545501       54652.46   \n",
       "6362606   742  TRANSFER   303846.74   C959102961      303846.74   \n",
       "6362607   742  CASH_OUT   303846.74  C1148860488      303846.74   \n",
       "6362608   742  TRANSFER   258355.42  C1226129332      258355.42   \n",
       "6362609   742  CASH_OUT   258355.42  C1113162093      258355.42   \n",
       "6362610   742  TRANSFER    63416.99   C778071008       63416.99   \n",
       "6362611   742  CASH_OUT    63416.99   C994950684       63416.99   \n",
       "6362612   743  TRANSFER  1258818.82  C1531301470     1258818.82   \n",
       "6362613   743  CASH_OUT  1258818.82  C1436118706     1258818.82   \n",
       "6362614   743  TRANSFER   339682.13  C2013999242      339682.13   \n",
       "6362615   743  CASH_OUT   339682.13   C786484425      339682.13   \n",
       "6362616   743  TRANSFER  6311409.28  C1529008245     6311409.28   \n",
       "6362617   743  CASH_OUT  6311409.28  C1162922333     6311409.28   \n",
       "6362618   743  TRANSFER   850002.52  C1685995037      850002.52   \n",
       "6362619   743  CASH_OUT   850002.52  C1280323807      850002.52   \n",
       "\n",
       "         newbalanceOrig     nameDest  oldbalanceDest  newbalanceDest  isFraud  \\\n",
       "6362590             0.0  C1310143791            0.00            0.00        1   \n",
       "6362591             0.0   C993635374       561753.58       885480.19        1   \n",
       "6362592             0.0  C1688658215            0.00            0.00        1   \n",
       "6362593             0.0  C2069429837      1788112.70      2171773.80        1   \n",
       "6362594             0.0  C1251365829            0.00            0.00        1   \n",
       "6362595             0.0   C716019997            0.00       144945.34        1   \n",
       "6362596             0.0  C2114078084            0.00            0.00        1   \n",
       "6362597             0.0  C2109905271       513746.19       562189.07        1   \n",
       "6362598             0.0   C750074708            0.00            0.00        1   \n",
       "6362599             0.0   C637394241      1229761.96      5238820.34        1   \n",
       "6362600             0.0  C1166857907            0.00            0.00        1   \n",
       "6362601             0.0   C362803701            0.00       652993.91        1   \n",
       "6362602             0.0   C112833674            0.00            0.00        1   \n",
       "6362603             0.0  C2078394828            0.00      1819543.69        1   \n",
       "6362604             0.0  C1930074465            0.00            0.00        1   \n",
       "6362605             0.0   C830041824            0.00        54652.46        1   \n",
       "6362606             0.0   C114421319            0.00            0.00        1   \n",
       "6362607             0.0   C846260566       343660.89       647507.63        1   \n",
       "6362608             0.0  C1744173808            0.00            0.00        1   \n",
       "6362609             0.0   C797688696        25176.67       283532.09        1   \n",
       "6362610             0.0  C1812552860            0.00            0.00        1   \n",
       "6362611             0.0  C1662241365       276433.18       339850.17        1   \n",
       "6362612             0.0  C1470998563            0.00            0.00        1   \n",
       "6362613             0.0  C1240760502       503464.50      1762283.33        1   \n",
       "6362614             0.0  C1850423904            0.00            0.00        1   \n",
       "6362615             0.0   C776919290            0.00       339682.13        1   \n",
       "6362616             0.0  C1881841831            0.00            0.00        1   \n",
       "6362617             0.0  C1365125890        68488.84      6379898.11        1   \n",
       "6362618             0.0  C2080388513            0.00            0.00        1   \n",
       "6362619             0.0   C873221189      6510099.11      7360101.63        1   \n",
       "\n",
       "         isFlaggedFraud  \n",
       "6362590               0  \n",
       "6362591               0  \n",
       "6362592               0  \n",
       "6362593               0  \n",
       "6362594               0  \n",
       "6362595               0  \n",
       "6362596               0  \n",
       "6362597               0  \n",
       "6362598               0  \n",
       "6362599               0  \n",
       "6362600               0  \n",
       "6362601               0  \n",
       "6362602               0  \n",
       "6362603               0  \n",
       "6362604               0  \n",
       "6362605               0  \n",
       "6362606               0  \n",
       "6362607               0  \n",
       "6362608               0  \n",
       "6362609               0  \n",
       "6362610               0  \n",
       "6362611               0  \n",
       "6362612               0  \n",
       "6362613               0  \n",
       "6362614               0  \n",
       "6362615               0  \n",
       "6362616               0  \n",
       "6362617               0  \n",
       "6362618               0  \n",
       "6362619               0  "
      ]
     },
     "execution_count": 75,
     "metadata": {},
     "output_type": "execute_result"
    }
   ],
   "source": [
    "credit_card_data.tail(30)"
   ]
  },
  {
   "cell_type": "code",
   "execution_count": 76,
   "id": "e82bc575",
   "metadata": {},
   "outputs": [
    {
     "name": "stdout",
     "output_type": "stream",
     "text": [
      "<class 'pandas.core.frame.DataFrame'>\n",
      "RangeIndex: 6362620 entries, 0 to 6362619\n",
      "Data columns (total 11 columns):\n",
      " #   Column          Dtype  \n",
      "---  ------          -----  \n",
      " 0   step            int64  \n",
      " 1   type            object \n",
      " 2   amount          float64\n",
      " 3   nameOrig        object \n",
      " 4   oldbalanceOrg   float64\n",
      " 5   newbalanceOrig  float64\n",
      " 6   nameDest        object \n",
      " 7   oldbalanceDest  float64\n",
      " 8   newbalanceDest  float64\n",
      " 9   isFraud         int64  \n",
      " 10  isFlaggedFraud  int64  \n",
      "dtypes: float64(5), int64(3), object(3)\n",
      "memory usage: 534.0+ MB\n"
     ]
    }
   ],
   "source": [
    "#getting the dataset information\n",
    "credit_card_data.info()"
   ]
  },
  {
   "cell_type": "code",
   "execution_count": 77,
   "id": "724588a7",
   "metadata": {},
   "outputs": [
    {
     "data": {
      "text/plain": [
       "step              0\n",
       "type              0\n",
       "amount            0\n",
       "nameOrig          0\n",
       "oldbalanceOrg     0\n",
       "newbalanceOrig    0\n",
       "nameDest          0\n",
       "oldbalanceDest    0\n",
       "newbalanceDest    0\n",
       "isFraud           0\n",
       "isFlaggedFraud    0\n",
       "dtype: int64"
      ]
     },
     "execution_count": 77,
     "metadata": {},
     "output_type": "execute_result"
    }
   ],
   "source": [
    "#checking the no. of missing values in each column\n",
    "credit_card_data.isnull().sum()#how to handle missing values"
   ]
  },
  {
   "cell_type": "code",
   "execution_count": 78,
   "id": "3b15b923",
   "metadata": {},
   "outputs": [
    {
     "data": {
      "image/png": "[encoded data removed]",
      "text/plain": [
       "<Figure size 360x360 with 1 Axes>"
      ]
     },
     "metadata": {
      "needs_background": "light"
     },
     "output_type": "display_data"
    }
   ],
   "source": [
    "#checking for outliers\n",
    "sns.displot(credit_card_data[\"amount\"])\n",
    "plt.show()\n"
   ]
  },
  {
   "cell_type": "code",
   "execution_count": 79,
   "id": "3d2686f9",
   "metadata": {},
   "outputs": [
    {
     "name": "stderr",
     "output_type": "stream",
     "text": [
      "C:\\Users\\Kartikay\\anaconda3\\lib\\site-packages\\seaborn\\_decorators.py:36: FutureWarning: Pass the following variable as a keyword arg: x. From version 0.12, the only valid positional argument will be `data`, and passing other arguments without an explicit keyword will result in an error or misinterpretation.\n",
      "  warnings.warn(\n"
     ]
    },
    {
     "data": {
      "text/plain": [
       "<AxesSubplot:xlabel='amount'>"
      ]
     },
     "execution_count": 79,
     "metadata": {},
     "output_type": "execute_result"
    },
    {
     "data": {
      "image/png": "[encoded data removed]",
      "text/plain": [
       "<Figure size 432x288 with 1 Axes>"
      ]
     },
     "metadata": {
      "needs_background": "light"
     },
     "output_type": "display_data"
    }
   ],
   "source": [
    "# to see outliers clearly we use boxplot\n",
    "sns.boxplot(credit_card_data[\"amount\"])"
   ]
  },
  {
   "cell_type": "markdown",
   "id": "8c11778e",
   "metadata": {},
   "source": [
    "removing the outliers using z score method"
   ]
  },
  {
   "cell_type": "code",
   "execution_count": 80,
   "id": "643f9637",
   "metadata": {},
   "outputs": [
    {
     "name": "stdout",
     "output_type": "stream",
     "text": [
      "upper limit: 1991436.597938102\n",
      "lower limit: -1631712.7908398563\n"
     ]
    }
   ],
   "source": [
    "upper_limit=credit_card_data['amount'].mean()+3*credit_card_data['amount'].std()\n",
    "lower_limit=credit_card_data['amount'].mean()-3*credit_card_data['amount'].std()\n",
    "print('upper limit:',upper_limit)\n",
    "print('lower limit:',lower_limit)"
   ]
  },
  {
   "cell_type": "code",
   "execution_count": 81,
   "id": "15b2e676",
   "metadata": {},
   "outputs": [
    {
     "data": {
      "text/html": [
       "<div>\n",
       "<style scoped>\n",
       "    .dataframe tbody tr th:only-of-type {\n",
       "        vertical-align: middle;\n",
       "    }\n",
       "\n",
       "    .dataframe tbody tr th {\n",
       "        vertical-align: top;\n",
       "    }\n",
       "\n",
       "    .dataframe thead th {\n",
       "        text-align: right;\n",
       "    }\n",
       "</style>\n",
       "<table border=\"1\" class=\"dataframe\">\n",
       "  <thead>\n",
       "    <tr style=\"text-align: right;\">\n",
       "      <th></th>\n",
       "      <th>step</th>\n",
       "      <th>type</th>\n",
       "      <th>amount</th>\n",
       "      <th>nameOrig</th>\n",
       "      <th>oldbalanceOrg</th>\n",
       "      <th>newbalanceOrig</th>\n",
       "      <th>nameDest</th>\n",
       "      <th>oldbalanceDest</th>\n",
       "      <th>newbalanceDest</th>\n",
       "      <th>isFraud</th>\n",
       "      <th>isFlaggedFraud</th>\n",
       "    </tr>\n",
       "  </thead>\n",
       "  <tbody>\n",
       "    <tr>\n",
       "      <th>359</th>\n",
       "      <td>1</td>\n",
       "      <td>TRANSFER</td>\n",
       "      <td>2421578.09</td>\n",
       "      <td>C106297322</td>\n",
       "      <td>0.00</td>\n",
       "      <td>0.00</td>\n",
       "      <td>C1590550415</td>\n",
       "      <td>8515645.77</td>\n",
       "      <td>19169204.93</td>\n",
       "      <td>0</td>\n",
       "      <td>0</td>\n",
       "    </tr>\n",
       "    <tr>\n",
       "      <th>375</th>\n",
       "      <td>1</td>\n",
       "      <td>TRANSFER</td>\n",
       "      <td>2545478.01</td>\n",
       "      <td>C1057507014</td>\n",
       "      <td>0.00</td>\n",
       "      <td>0.00</td>\n",
       "      <td>C1590550415</td>\n",
       "      <td>12394437.40</td>\n",
       "      <td>19169204.93</td>\n",
       "      <td>0</td>\n",
       "      <td>0</td>\n",
       "    </tr>\n",
       "    <tr>\n",
       "      <th>376</th>\n",
       "      <td>1</td>\n",
       "      <td>TRANSFER</td>\n",
       "      <td>2061082.82</td>\n",
       "      <td>C2007599722</td>\n",
       "      <td>0.00</td>\n",
       "      <td>0.00</td>\n",
       "      <td>C1590550415</td>\n",
       "      <td>14939915.42</td>\n",
       "      <td>19169204.93</td>\n",
       "      <td>0</td>\n",
       "      <td>0</td>\n",
       "    </tr>\n",
       "    <tr>\n",
       "      <th>1153</th>\n",
       "      <td>1</td>\n",
       "      <td>TRANSFER</td>\n",
       "      <td>3776389.09</td>\n",
       "      <td>C197491520</td>\n",
       "      <td>0.00</td>\n",
       "      <td>0.00</td>\n",
       "      <td>C1883840933</td>\n",
       "      <td>10138670.86</td>\n",
       "      <td>16874643.09</td>\n",
       "      <td>0</td>\n",
       "      <td>0</td>\n",
       "    </tr>\n",
       "    <tr>\n",
       "      <th>1202</th>\n",
       "      <td>1</td>\n",
       "      <td>TRANSFER</td>\n",
       "      <td>2258388.15</td>\n",
       "      <td>C12139181</td>\n",
       "      <td>0.00</td>\n",
       "      <td>0.00</td>\n",
       "      <td>C1789550256</td>\n",
       "      <td>2784129.27</td>\n",
       "      <td>4619798.56</td>\n",
       "      <td>0</td>\n",
       "      <td>0</td>\n",
       "    </tr>\n",
       "    <tr>\n",
       "      <th>...</th>\n",
       "      <td>...</td>\n",
       "      <td>...</td>\n",
       "      <td>...</td>\n",
       "      <td>...</td>\n",
       "      <td>...</td>\n",
       "      <td>...</td>\n",
       "      <td>...</td>\n",
       "      <td>...</td>\n",
       "      <td>...</td>\n",
       "      <td>...</td>\n",
       "      <td>...</td>\n",
       "    </tr>\n",
       "    <tr>\n",
       "      <th>6362584</th>\n",
       "      <td>741</td>\n",
       "      <td>TRANSFER</td>\n",
       "      <td>5674547.89</td>\n",
       "      <td>C992223106</td>\n",
       "      <td>5674547.89</td>\n",
       "      <td>5674547.89</td>\n",
       "      <td>C1366804249</td>\n",
       "      <td>0.00</td>\n",
       "      <td>0.00</td>\n",
       "      <td>1</td>\n",
       "      <td>1</td>\n",
       "    </tr>\n",
       "    <tr>\n",
       "      <th>6362598</th>\n",
       "      <td>742</td>\n",
       "      <td>TRANSFER</td>\n",
       "      <td>4009058.39</td>\n",
       "      <td>C1044665079</td>\n",
       "      <td>4009058.39</td>\n",
       "      <td>0.00</td>\n",
       "      <td>C750074708</td>\n",
       "      <td>0.00</td>\n",
       "      <td>0.00</td>\n",
       "      <td>1</td>\n",
       "      <td>0</td>\n",
       "    </tr>\n",
       "    <tr>\n",
       "      <th>6362599</th>\n",
       "      <td>742</td>\n",
       "      <td>CASH_OUT</td>\n",
       "      <td>4009058.39</td>\n",
       "      <td>C1970706589</td>\n",
       "      <td>4009058.39</td>\n",
       "      <td>0.00</td>\n",
       "      <td>C637394241</td>\n",
       "      <td>1229761.96</td>\n",
       "      <td>5238820.34</td>\n",
       "      <td>1</td>\n",
       "      <td>0</td>\n",
       "    </tr>\n",
       "    <tr>\n",
       "      <th>6362616</th>\n",
       "      <td>743</td>\n",
       "      <td>TRANSFER</td>\n",
       "      <td>6311409.28</td>\n",
       "      <td>C1529008245</td>\n",
       "      <td>6311409.28</td>\n",
       "      <td>0.00</td>\n",
       "      <td>C1881841831</td>\n",
       "      <td>0.00</td>\n",
       "      <td>0.00</td>\n",
       "      <td>1</td>\n",
       "      <td>0</td>\n",
       "    </tr>\n",
       "    <tr>\n",
       "      <th>6362617</th>\n",
       "      <td>743</td>\n",
       "      <td>CASH_OUT</td>\n",
       "      <td>6311409.28</td>\n",
       "      <td>C1162922333</td>\n",
       "      <td>6311409.28</td>\n",
       "      <td>0.00</td>\n",
       "      <td>C1365125890</td>\n",
       "      <td>68488.84</td>\n",
       "      <td>6379898.11</td>\n",
       "      <td>1</td>\n",
       "      <td>0</td>\n",
       "    </tr>\n",
       "  </tbody>\n",
       "</table>\n",
       "<p>44945 rows × 11 columns</p>\n",
       "</div>"
      ],
      "text/plain": [
       "         step      type      amount     nameOrig  oldbalanceOrg  \\\n",
       "359         1  TRANSFER  2421578.09   C106297322           0.00   \n",
       "375         1  TRANSFER  2545478.01  C1057507014           0.00   \n",
       "376         1  TRANSFER  2061082.82  C2007599722           0.00   \n",
       "1153        1  TRANSFER  3776389.09   C197491520           0.00   \n",
       "1202        1  TRANSFER  2258388.15    C12139181           0.00   \n",
       "...       ...       ...         ...          ...            ...   \n",
       "6362584   741  TRANSFER  5674547.89   C992223106     5674547.89   \n",
       "6362598   742  TRANSFER  4009058.39  C1044665079     4009058.39   \n",
       "6362599   742  CASH_OUT  4009058.39  C1970706589     4009058.39   \n",
       "6362616   743  TRANSFER  6311409.28  C1529008245     6311409.28   \n",
       "6362617   743  CASH_OUT  6311409.28  C1162922333     6311409.28   \n",
       "\n",
       "         newbalanceOrig     nameDest  oldbalanceDest  newbalanceDest  isFraud  \\\n",
       "359                0.00  C1590550415      8515645.77     19169204.93        0   \n",
       "375                0.00  C1590550415     12394437.40     19169204.93        0   \n",
       "376                0.00  C1590550415     14939915.42     19169204.93        0   \n",
       "1153               0.00  C1883840933     10138670.86     16874643.09        0   \n",
       "1202               0.00  C1789550256      2784129.27      4619798.56        0   \n",
       "...                 ...          ...             ...             ...      ...   \n",
       "6362584      5674547.89  C1366804249            0.00            0.00        1   \n",
       "6362598            0.00   C750074708            0.00            0.00        1   \n",
       "6362599            0.00   C637394241      1229761.96      5238820.34        1   \n",
       "6362616            0.00  C1881841831            0.00            0.00        1   \n",
       "6362617            0.00  C1365125890        68488.84      6379898.11        1   \n",
       "\n",
       "         isFlaggedFraud  \n",
       "359                   0  \n",
       "375                   0  \n",
       "376                   0  \n",
       "1153                  0  \n",
       "1202                  0  \n",
       "...                 ...  \n",
       "6362584               1  \n",
       "6362598               0  \n",
       "6362599               0  \n",
       "6362616               0  \n",
       "6362617               0  \n",
       "\n",
       "[44945 rows x 11 columns]"
      ]
     },
     "execution_count": 81,
     "metadata": {},
     "output_type": "execute_result"
    }
   ],
   "source": [
    "# finding the outliers\n",
    "credit_card_data.loc[(credit_card_data['amount']>upper_limit)| (credit_card_data['amount']<lower_limit)]"
   ]
  },
  {
   "cell_type": "code",
   "execution_count": 82,
   "id": "7c2be859",
   "metadata": {},
   "outputs": [
    {
     "name": "stdout",
     "output_type": "stream",
     "text": [
      "befor removing outliers 6362620\n",
      "after removing 6317675\n"
     ]
    }
   ],
   "source": [
    "#trimming or deleting the outlier data\n",
    "new_df=credit_card_data.loc[(credit_card_data['amount']<upper_limit)&(credit_card_data['amount']>lower_limit)]\n",
    "print(\"befor removing outliers\",len(credit_card_data))\n",
    "print(\"after removing\",len(new_df))\n"
   ]
  },
  {
   "cell_type": "code",
   "execution_count": 83,
   "id": "f93de970",
   "metadata": {},
   "outputs": [
    {
     "name": "stderr",
     "output_type": "stream",
     "text": [
      "C:\\Users\\Kartikay\\anaconda3\\lib\\site-packages\\seaborn\\_decorators.py:36: FutureWarning: Pass the following variable as a keyword arg: x. From version 0.12, the only valid positional argument will be `data`, and passing other arguments without an explicit keyword will result in an error or misinterpretation.\n",
      "  warnings.warn(\n"
     ]
    },
    {
     "data": {
      "text/plain": [
       "<AxesSubplot:xlabel='amount'>"
      ]
     },
     "execution_count": 83,
     "metadata": {},
     "output_type": "execute_result"
    },
    {
     "data": {
      "image/png": "[encoded data removed]",
      "text/plain": [
       "<Figure size 432x288 with 1 Axes>"
      ]
     },
     "metadata": {
      "needs_background": "light"
     },
     "output_type": "display_data"
    }
   ],
   "source": [
    "sns.boxplot(new_df['amount'])"
   ]
  },
  {
   "cell_type": "code",
   "execution_count": 84,
   "id": "0c3b86c0",
   "metadata": {},
   "outputs": [
    {
     "data": {
      "text/plain": [
       "array([dtype('int64'), dtype('O'), dtype('float64')], dtype=object)"
      ]
     },
     "execution_count": 84,
     "metadata": {},
     "output_type": "execute_result"
    }
   ],
   "source": [
    "#checking for colinearity\n",
    "new_df.dtypes.unique()\n"
   ]
  },
  {
   "cell_type": "code",
   "execution_count": 85,
   "id": "553d73e6",
   "metadata": {},
   "outputs": [],
   "source": [
    "num=['int64','float64']\n",
    "num_vars=list(new_df.select_dtypes(include=num))"
   ]
  },
  {
   "cell_type": "code",
   "execution_count": 86,
   "id": "5e0e6371",
   "metadata": {},
   "outputs": [
    {
     "data": {
      "text/plain": [
       "['step',\n",
       " 'amount',\n",
       " 'oldbalanceOrg',\n",
       " 'newbalanceOrig',\n",
       " 'oldbalanceDest',\n",
       " 'newbalanceDest',\n",
       " 'isFraud',\n",
       " 'isFlaggedFraud']"
      ]
     },
     "execution_count": 86,
     "metadata": {},
     "output_type": "execute_result"
    }
   ],
   "source": [
    "num_vars"
   ]
  },
  {
   "cell_type": "code",
   "execution_count": 87,
   "id": "e7622e2b",
   "metadata": {},
   "outputs": [
    {
     "data": {
      "text/plain": [
       "step              0\n",
       "amount            0\n",
       "oldbalanceOrg     0\n",
       "newbalanceOrig    0\n",
       "oldbalanceDest    0\n",
       "newbalanceDest    0\n",
       "isFraud           0\n",
       "isFlaggedFraud    0\n",
       "dtype: int64"
      ]
     },
     "execution_count": 87,
     "metadata": {},
     "output_type": "execute_result"
    }
   ],
   "source": [
    "new_df=new_df[num_vars]\n",
    "new_df.shape\n",
    "new_df.isna().sum()"
   ]
  },
  {
   "cell_type": "code",
   "execution_count": 88,
   "id": "0149de99",
   "metadata": {},
   "outputs": [],
   "source": [
    "x_train,x_test,y_train,y_test=train_test_split(x,y,test_size=0.2,stratify=y,random_state=2)"
   ]
  },
  {
   "cell_type": "code",
   "execution_count": 89,
   "id": "50fb7406",
   "metadata": {},
   "outputs": [
    {
     "data": {
      "text/html": [
       "<div>\n",
       "<style scoped>\n",
       "    .dataframe tbody tr th:only-of-type {\n",
       "        vertical-align: middle;\n",
       "    }\n",
       "\n",
       "    .dataframe tbody tr th {\n",
       "        vertical-align: top;\n",
       "    }\n",
       "\n",
       "    .dataframe thead th {\n",
       "        text-align: right;\n",
       "    }\n",
       "</style>\n",
       "<table border=\"1\" class=\"dataframe\">\n",
       "  <thead>\n",
       "    <tr style=\"text-align: right;\">\n",
       "      <th></th>\n",
       "      <th>step</th>\n",
       "      <th>amount</th>\n",
       "      <th>oldbalanceOrg</th>\n",
       "      <th>newbalanceOrig</th>\n",
       "      <th>oldbalanceDest</th>\n",
       "      <th>newbalanceDest</th>\n",
       "      <th>isFlaggedFraud</th>\n",
       "    </tr>\n",
       "  </thead>\n",
       "  <tbody>\n",
       "    <tr>\n",
       "      <th>step</th>\n",
       "      <td>1.000000</td>\n",
       "      <td>0.138806</td>\n",
       "      <td>-0.027892</td>\n",
       "      <td>-0.060655</td>\n",
       "      <td>0.004648</td>\n",
       "      <td>0.009439</td>\n",
       "      <td>0.013782</td>\n",
       "    </tr>\n",
       "    <tr>\n",
       "      <th>amount</th>\n",
       "      <td>0.138806</td>\n",
       "      <td>1.000000</td>\n",
       "      <td>0.080724</td>\n",
       "      <td>-0.069992</td>\n",
       "      <td>0.035638</td>\n",
       "      <td>0.100232</td>\n",
       "      <td>0.017188</td>\n",
       "    </tr>\n",
       "    <tr>\n",
       "      <th>oldbalanceOrg</th>\n",
       "      <td>-0.027892</td>\n",
       "      <td>0.080724</td>\n",
       "      <td>1.000000</td>\n",
       "      <td>0.985137</td>\n",
       "      <td>0.061064</td>\n",
       "      <td>0.050977</td>\n",
       "      <td>0.018898</td>\n",
       "    </tr>\n",
       "    <tr>\n",
       "      <th>newbalanceOrig</th>\n",
       "      <td>-0.060655</td>\n",
       "      <td>-0.069992</td>\n",
       "      <td>0.985137</td>\n",
       "      <td>1.000000</td>\n",
       "      <td>0.067504</td>\n",
       "      <td>0.047831</td>\n",
       "      <td>0.020038</td>\n",
       "    </tr>\n",
       "    <tr>\n",
       "      <th>oldbalanceDest</th>\n",
       "      <td>0.004648</td>\n",
       "      <td>0.035638</td>\n",
       "      <td>0.061064</td>\n",
       "      <td>0.067504</td>\n",
       "      <td>1.000000</td>\n",
       "      <td>0.994372</td>\n",
       "      <td>-0.004447</td>\n",
       "    </tr>\n",
       "    <tr>\n",
       "      <th>newbalanceDest</th>\n",
       "      <td>0.009439</td>\n",
       "      <td>0.100232</td>\n",
       "      <td>0.050977</td>\n",
       "      <td>0.047831</td>\n",
       "      <td>0.994372</td>\n",
       "      <td>1.000000</td>\n",
       "      <td>-0.005196</td>\n",
       "    </tr>\n",
       "    <tr>\n",
       "      <th>isFlaggedFraud</th>\n",
       "      <td>0.013782</td>\n",
       "      <td>0.017188</td>\n",
       "      <td>0.018898</td>\n",
       "      <td>0.020038</td>\n",
       "      <td>-0.004447</td>\n",
       "      <td>-0.005196</td>\n",
       "      <td>1.000000</td>\n",
       "    </tr>\n",
       "  </tbody>\n",
       "</table>\n",
       "</div>"
      ],
      "text/plain": [
       "                    step    amount  oldbalanceOrg  newbalanceOrig  \\\n",
       "step            1.000000  0.138806      -0.027892       -0.060655   \n",
       "amount          0.138806  1.000000       0.080724       -0.069992   \n",
       "oldbalanceOrg  -0.027892  0.080724       1.000000        0.985137   \n",
       "newbalanceOrig -0.060655 -0.069992       0.985137        1.000000   \n",
       "oldbalanceDest  0.004648  0.035638       0.061064        0.067504   \n",
       "newbalanceDest  0.009439  0.100232       0.050977        0.047831   \n",
       "isFlaggedFraud  0.013782  0.017188       0.018898        0.020038   \n",
       "\n",
       "                oldbalanceDest  newbalanceDest  isFlaggedFraud  \n",
       "step                  0.004648        0.009439        0.013782  \n",
       "amount                0.035638        0.100232        0.017188  \n",
       "oldbalanceOrg         0.061064        0.050977        0.018898  \n",
       "newbalanceOrig        0.067504        0.047831        0.020038  \n",
       "oldbalanceDest        1.000000        0.994372       -0.004447  \n",
       "newbalanceDest        0.994372        1.000000       -0.005196  \n",
       "isFlaggedFraud       -0.004447       -0.005196        1.000000  "
      ]
     },
     "execution_count": 89,
     "metadata": {},
     "output_type": "execute_result"
    }
   ],
   "source": [
    "corrmatrix=x_train.corr()\n",
    "corrmatrix"
   ]
  },
  {
   "cell_type": "code",
   "execution_count": 90,
   "id": "6326fbf7",
   "metadata": {},
   "outputs": [
    {
     "data": {
      "text/plain": [
       "{'newbalanceDest', 'newbalanceOrig'}"
      ]
     },
     "execution_count": 90,
     "metadata": {},
     "output_type": "execute_result"
    }
   ],
   "source": [
    "def correlation(df,threshold):\n",
    "    correlated_cols=set()\n",
    "    corr_matrix=df.corr()\n",
    "    for i in range(len(corr_matrix.columns)):\n",
    "        for j in range(i):\n",
    "            if abs(corr_matrix.iloc[i,j])>threshold:\n",
    "                colname=corr_matrix.columns[i]\n",
    "                correlated_cols.add(colname)\n",
    "    return correlated_cols\n",
    "correlation(x_train,0.6)"
   ]
  },
  {
   "cell_type": "code",
   "execution_count": 92,
   "id": "810673a2",
   "metadata": {},
   "outputs": [
    {
     "data": {
      "text/plain": [
       "0    6311148\n",
       "1       6527\n",
       "Name: isFraud, dtype: int64"
      ]
     },
     "execution_count": 92,
     "metadata": {},
     "output_type": "execute_result"
    }
   ],
   "source": [
    "#distribution of legit and fraudelent transactions\n",
    "new_df['isFraud'].value_counts()"
   ]
  },
  {
   "cell_type": "markdown",
   "id": "6922d990",
   "metadata": {},
   "source": [
    "This dataset is ighl unbalanced \n",
    "0 --> normal transaction\n",
    "1 --> fraudelent transactions\n"
   ]
  },
  {
   "cell_type": "code",
   "execution_count": 93,
   "id": "9cb57c2f",
   "metadata": {},
   "outputs": [
    {
     "name": "stderr",
     "output_type": "stream",
     "text": [
      "C:\\Users\\Kartikay\\AppData\\Local\\Temp\\ipykernel_24168\\2923407834.py:2: UserWarning: Boolean Series key will be reindexed to match DataFrame index.\n",
      "  legit=new_df[credit_card_data.isFraud==0]\n",
      "C:\\Users\\Kartikay\\AppData\\Local\\Temp\\ipykernel_24168\\2923407834.py:3: UserWarning: Boolean Series key will be reindexed to match DataFrame index.\n",
      "  fraud=new_df[credit_card_data.isFraud==1]\n"
     ]
    }
   ],
   "source": [
    "#separating the data for analysis\n",
    "legit=new_df[credit_card_data.isFraud==0]\n",
    "fraud=new_df[credit_card_data.isFraud==1]"
   ]
  },
  {
   "cell_type": "code",
   "execution_count": 94,
   "id": "062d0b56",
   "metadata": {},
   "outputs": [
    {
     "name": "stdout",
     "output_type": "stream",
     "text": [
      "(6311148, 8)\n",
      "(6527, 8)\n"
     ]
    }
   ],
   "source": [
    "print(legit.shape)\n",
    "print(fraud.shape)"
   ]
  },
  {
   "cell_type": "code",
   "execution_count": 95,
   "id": "73ffb476",
   "metadata": {},
   "outputs": [
    {
     "data": {
      "text/plain": [
       "count    6.311148e+06\n",
       "mean     1.466214e+05\n",
       "std      2.137911e+05\n",
       "min      1.000000e-02\n",
       "25%      1.323243e+04\n",
       "50%      7.315851e+04\n",
       "75%      2.049003e+05\n",
       "max      1.991430e+06\n",
       "Name: amount, dtype: float64"
      ]
     },
     "execution_count": 95,
     "metadata": {},
     "output_type": "execute_result"
    }
   ],
   "source": [
    "# stastical measures for the data\n",
    "legit.amount.describe()"
   ]
  },
  {
   "cell_type": "code",
   "execution_count": 96,
   "id": "8f7c86f8",
   "metadata": {},
   "outputs": [
    {
     "data": {
      "text/plain": [
       "count    6.527000e+03\n",
       "mean     4.661128e+05\n",
       "std      4.895139e+05\n",
       "min      0.000000e+00\n",
       "25%      9.348323e+04\n",
       "50%      2.726372e+05\n",
       "75%      6.972262e+05\n",
       "max      1.989311e+06\n",
       "Name: amount, dtype: float64"
      ]
     },
     "execution_count": 96,
     "metadata": {},
     "output_type": "execute_result"
    }
   ],
   "source": [
    "fraud.amount.describe()"
   ]
  },
  {
   "cell_type": "code",
   "execution_count": 97,
   "id": "51f1ff10",
   "metadata": {},
   "outputs": [
    {
     "data": {
      "text/html": [
       "<div>\n",
       "<style scoped>\n",
       "    .dataframe tbody tr th:only-of-type {\n",
       "        vertical-align: middle;\n",
       "    }\n",
       "\n",
       "    .dataframe tbody tr th {\n",
       "        vertical-align: top;\n",
       "    }\n",
       "\n",
       "    .dataframe thead th {\n",
       "        text-align: right;\n",
       "    }\n",
       "</style>\n",
       "<table border=\"1\" class=\"dataframe\">\n",
       "  <thead>\n",
       "    <tr style=\"text-align: right;\">\n",
       "      <th></th>\n",
       "      <th>step</th>\n",
       "      <th>amount</th>\n",
       "      <th>oldbalanceOrg</th>\n",
       "      <th>newbalanceOrig</th>\n",
       "      <th>oldbalanceDest</th>\n",
       "      <th>newbalanceDest</th>\n",
       "      <th>isFlaggedFraud</th>\n",
       "    </tr>\n",
       "    <tr>\n",
       "      <th>isFraud</th>\n",
       "      <th></th>\n",
       "      <th></th>\n",
       "      <th></th>\n",
       "      <th></th>\n",
       "      <th></th>\n",
       "      <th></th>\n",
       "      <th></th>\n",
       "    </tr>\n",
       "  </thead>\n",
       "  <tbody>\n",
       "    <tr>\n",
       "      <th>0</th>\n",
       "      <td>242.872887</td>\n",
       "      <td>146621.360474</td>\n",
       "      <td>838252.674669</td>\n",
       "      <td>861831.376157</td>\n",
       "      <td>1.057032e+06</td>\n",
       "      <td>1.142979e+06</td>\n",
       "      <td>0.000000</td>\n",
       "    </tr>\n",
       "    <tr>\n",
       "      <th>1</th>\n",
       "      <td>366.584189</td>\n",
       "      <td>466112.847081</td>\n",
       "      <td>466221.807028</td>\n",
       "      <td>2049.062520</td>\n",
       "      <td>5.534864e+05</td>\n",
       "      <td>7.912769e+05</td>\n",
       "      <td>0.000613</td>\n",
       "    </tr>\n",
       "  </tbody>\n",
       "</table>\n",
       "</div>"
      ],
      "text/plain": [
       "               step         amount  oldbalanceOrg  newbalanceOrig  \\\n",
       "isFraud                                                             \n",
       "0        242.872887  146621.360474  838252.674669   861831.376157   \n",
       "1        366.584189  466112.847081  466221.807028     2049.062520   \n",
       "\n",
       "         oldbalanceDest  newbalanceDest  isFlaggedFraud  \n",
       "isFraud                                                  \n",
       "0          1.057032e+06    1.142979e+06        0.000000  \n",
       "1          5.534864e+05    7.912769e+05        0.000613  "
      ]
     },
     "execution_count": 97,
     "metadata": {},
     "output_type": "execute_result"
    }
   ],
   "source": [
    "#compare the values for both transactions\n",
    "new_df.groupby('isFraud').mean()"
   ]
  },
  {
   "cell_type": "markdown",
   "id": "79160304",
   "metadata": {},
   "source": [
    "we will perform under sampling\n",
    "that is we will build a new data set containing similar distribution of normal and fraudelent transactions\n",
    "fraud transactions-->8213"
   ]
  },
  {
   "cell_type": "code",
   "execution_count": 98,
   "id": "2822ccd2",
   "metadata": {},
   "outputs": [],
   "source": [
    "legit_sample=legit.sample(n=8213)"
   ]
  },
  {
   "cell_type": "markdown",
   "id": "70066eb8",
   "metadata": {},
   "source": [
    "Concatenating two data frames"
   ]
  },
  {
   "cell_type": "code",
   "execution_count": 99,
   "id": "31bb229c",
   "metadata": {},
   "outputs": [],
   "source": [
    "new_dataset=pd.concat([legit_sample,fraud],axis=0)#b\\c we want add values row wise"
   ]
  },
  {
   "cell_type": "code",
   "execution_count": 100,
   "id": "752c34f0",
   "metadata": {},
   "outputs": [
    {
     "data": {
      "text/html": [
       "<div>\n",
       "<style scoped>\n",
       "    .dataframe tbody tr th:only-of-type {\n",
       "        vertical-align: middle;\n",
       "    }\n",
       "\n",
       "    .dataframe tbody tr th {\n",
       "        vertical-align: top;\n",
       "    }\n",
       "\n",
       "    .dataframe thead th {\n",
       "        text-align: right;\n",
       "    }\n",
       "</style>\n",
       "<table border=\"1\" class=\"dataframe\">\n",
       "  <thead>\n",
       "    <tr style=\"text-align: right;\">\n",
       "      <th></th>\n",
       "      <th>step</th>\n",
       "      <th>amount</th>\n",
       "      <th>oldbalanceOrg</th>\n",
       "      <th>newbalanceOrig</th>\n",
       "      <th>oldbalanceDest</th>\n",
       "      <th>newbalanceDest</th>\n",
       "      <th>isFraud</th>\n",
       "      <th>isFlaggedFraud</th>\n",
       "    </tr>\n",
       "  </thead>\n",
       "  <tbody>\n",
       "    <tr>\n",
       "      <th>5513955</th>\n",
       "      <td>380</td>\n",
       "      <td>46888.09</td>\n",
       "      <td>17473.41</td>\n",
       "      <td>0.00</td>\n",
       "      <td>0.00</td>\n",
       "      <td>0.00</td>\n",
       "      <td>0</td>\n",
       "      <td>0</td>\n",
       "    </tr>\n",
       "    <tr>\n",
       "      <th>3706598</th>\n",
       "      <td>277</td>\n",
       "      <td>16106.00</td>\n",
       "      <td>12421.00</td>\n",
       "      <td>0.00</td>\n",
       "      <td>0.00</td>\n",
       "      <td>0.00</td>\n",
       "      <td>0</td>\n",
       "      <td>0</td>\n",
       "    </tr>\n",
       "    <tr>\n",
       "      <th>1178610</th>\n",
       "      <td>132</td>\n",
       "      <td>672504.60</td>\n",
       "      <td>111145.00</td>\n",
       "      <td>783649.60</td>\n",
       "      <td>1152440.39</td>\n",
       "      <td>479935.79</td>\n",
       "      <td>0</td>\n",
       "      <td>0</td>\n",
       "    </tr>\n",
       "    <tr>\n",
       "      <th>800733</th>\n",
       "      <td>40</td>\n",
       "      <td>5723.44</td>\n",
       "      <td>0.00</td>\n",
       "      <td>0.00</td>\n",
       "      <td>0.00</td>\n",
       "      <td>0.00</td>\n",
       "      <td>0</td>\n",
       "      <td>0</td>\n",
       "    </tr>\n",
       "    <tr>\n",
       "      <th>4958403</th>\n",
       "      <td>351</td>\n",
       "      <td>109848.59</td>\n",
       "      <td>577560.79</td>\n",
       "      <td>687409.39</td>\n",
       "      <td>531523.64</td>\n",
       "      <td>369433.83</td>\n",
       "      <td>0</td>\n",
       "      <td>0</td>\n",
       "    </tr>\n",
       "  </tbody>\n",
       "</table>\n",
       "</div>"
      ],
      "text/plain": [
       "         step     amount  oldbalanceOrg  newbalanceOrig  oldbalanceDest  \\\n",
       "5513955   380   46888.09       17473.41            0.00            0.00   \n",
       "3706598   277   16106.00       12421.00            0.00            0.00   \n",
       "1178610   132  672504.60      111145.00       783649.60      1152440.39   \n",
       "800733     40    5723.44           0.00            0.00            0.00   \n",
       "4958403   351  109848.59      577560.79       687409.39       531523.64   \n",
       "\n",
       "         newbalanceDest  isFraud  isFlaggedFraud  \n",
       "5513955            0.00        0               0  \n",
       "3706598            0.00        0               0  \n",
       "1178610       479935.79        0               0  \n",
       "800733             0.00        0               0  \n",
       "4958403       369433.83        0               0  "
      ]
     },
     "execution_count": 100,
     "metadata": {},
     "output_type": "execute_result"
    }
   ],
   "source": [
    "new_dataset.head()"
   ]
  },
  {
   "cell_type": "code",
   "execution_count": 101,
   "id": "ed2a5020",
   "metadata": {},
   "outputs": [
    {
     "data": {
      "text/html": [
       "<div>\n",
       "<style scoped>\n",
       "    .dataframe tbody tr th:only-of-type {\n",
       "        vertical-align: middle;\n",
       "    }\n",
       "\n",
       "    .dataframe tbody tr th {\n",
       "        vertical-align: top;\n",
       "    }\n",
       "\n",
       "    .dataframe thead th {\n",
       "        text-align: right;\n",
       "    }\n",
       "</style>\n",
       "<table border=\"1\" class=\"dataframe\">\n",
       "  <thead>\n",
       "    <tr style=\"text-align: right;\">\n",
       "      <th></th>\n",
       "      <th>step</th>\n",
       "      <th>amount</th>\n",
       "      <th>oldbalanceOrg</th>\n",
       "      <th>newbalanceOrig</th>\n",
       "      <th>oldbalanceDest</th>\n",
       "      <th>newbalanceDest</th>\n",
       "      <th>isFraud</th>\n",
       "      <th>isFlaggedFraud</th>\n",
       "    </tr>\n",
       "  </thead>\n",
       "  <tbody>\n",
       "    <tr>\n",
       "      <th>6362613</th>\n",
       "      <td>743</td>\n",
       "      <td>1258818.82</td>\n",
       "      <td>1258818.82</td>\n",
       "      <td>0.0</td>\n",
       "      <td>503464.50</td>\n",
       "      <td>1762283.33</td>\n",
       "      <td>1</td>\n",
       "      <td>0</td>\n",
       "    </tr>\n",
       "    <tr>\n",
       "      <th>6362614</th>\n",
       "      <td>743</td>\n",
       "      <td>339682.13</td>\n",
       "      <td>339682.13</td>\n",
       "      <td>0.0</td>\n",
       "      <td>0.00</td>\n",
       "      <td>0.00</td>\n",
       "      <td>1</td>\n",
       "      <td>0</td>\n",
       "    </tr>\n",
       "    <tr>\n",
       "      <th>6362615</th>\n",
       "      <td>743</td>\n",
       "      <td>339682.13</td>\n",
       "      <td>339682.13</td>\n",
       "      <td>0.0</td>\n",
       "      <td>0.00</td>\n",
       "      <td>339682.13</td>\n",
       "      <td>1</td>\n",
       "      <td>0</td>\n",
       "    </tr>\n",
       "    <tr>\n",
       "      <th>6362618</th>\n",
       "      <td>743</td>\n",
       "      <td>850002.52</td>\n",
       "      <td>850002.52</td>\n",
       "      <td>0.0</td>\n",
       "      <td>0.00</td>\n",
       "      <td>0.00</td>\n",
       "      <td>1</td>\n",
       "      <td>0</td>\n",
       "    </tr>\n",
       "    <tr>\n",
       "      <th>6362619</th>\n",
       "      <td>743</td>\n",
       "      <td>850002.52</td>\n",
       "      <td>850002.52</td>\n",
       "      <td>0.0</td>\n",
       "      <td>6510099.11</td>\n",
       "      <td>7360101.63</td>\n",
       "      <td>1</td>\n",
       "      <td>0</td>\n",
       "    </tr>\n",
       "  </tbody>\n",
       "</table>\n",
       "</div>"
      ],
      "text/plain": [
       "         step      amount  oldbalanceOrg  newbalanceOrig  oldbalanceDest  \\\n",
       "6362613   743  1258818.82     1258818.82             0.0       503464.50   \n",
       "6362614   743   339682.13      339682.13             0.0            0.00   \n",
       "6362615   743   339682.13      339682.13             0.0            0.00   \n",
       "6362618   743   850002.52      850002.52             0.0            0.00   \n",
       "6362619   743   850002.52      850002.52             0.0      6510099.11   \n",
       "\n",
       "         newbalanceDest  isFraud  isFlaggedFraud  \n",
       "6362613      1762283.33        1               0  \n",
       "6362614            0.00        1               0  \n",
       "6362615       339682.13        1               0  \n",
       "6362618            0.00        1               0  \n",
       "6362619      7360101.63        1               0  "
      ]
     },
     "execution_count": 101,
     "metadata": {},
     "output_type": "execute_result"
    }
   ],
   "source": [
    "new_dataset.tail()"
   ]
  },
  {
   "cell_type": "code",
   "execution_count": 102,
   "id": "ef9109f9",
   "metadata": {},
   "outputs": [
    {
     "data": {
      "text/plain": [
       "<bound method IndexOpsMixin.value_counts of 5513955    0\n",
       "3706598    0\n",
       "1178610    0\n",
       "800733     0\n",
       "4958403    0\n",
       "          ..\n",
       "6362613    1\n",
       "6362614    1\n",
       "6362615    1\n",
       "6362618    1\n",
       "6362619    1\n",
       "Name: isFraud, Length: 14740, dtype: int64>"
      ]
     },
     "execution_count": 102,
     "metadata": {},
     "output_type": "execute_result"
    }
   ],
   "source": [
    "new_dataset['isFraud'].value_counts"
   ]
  },
  {
   "cell_type": "code",
   "execution_count": 103,
   "id": "19caa822",
   "metadata": {},
   "outputs": [
    {
     "data": {
      "text/html": [
       "<div>\n",
       "<style scoped>\n",
       "    .dataframe tbody tr th:only-of-type {\n",
       "        vertical-align: middle;\n",
       "    }\n",
       "\n",
       "    .dataframe tbody tr th {\n",
       "        vertical-align: top;\n",
       "    }\n",
       "\n",
       "    .dataframe thead th {\n",
       "        text-align: right;\n",
       "    }\n",
       "</style>\n",
       "<table border=\"1\" class=\"dataframe\">\n",
       "  <thead>\n",
       "    <tr style=\"text-align: right;\">\n",
       "      <th></th>\n",
       "      <th>step</th>\n",
       "      <th>amount</th>\n",
       "      <th>oldbalanceOrg</th>\n",
       "      <th>newbalanceOrig</th>\n",
       "      <th>oldbalanceDest</th>\n",
       "      <th>newbalanceDest</th>\n",
       "      <th>isFlaggedFraud</th>\n",
       "    </tr>\n",
       "    <tr>\n",
       "      <th>isFraud</th>\n",
       "      <th></th>\n",
       "      <th></th>\n",
       "      <th></th>\n",
       "      <th></th>\n",
       "      <th></th>\n",
       "      <th></th>\n",
       "      <th></th>\n",
       "    </tr>\n",
       "  </thead>\n",
       "  <tbody>\n",
       "    <tr>\n",
       "      <th>0</th>\n",
       "      <td>242.656520</td>\n",
       "      <td>143096.271260</td>\n",
       "      <td>807857.894436</td>\n",
       "      <td>830215.275595</td>\n",
       "      <td>994461.369861</td>\n",
       "      <td>1.077120e+06</td>\n",
       "      <td>0.000000</td>\n",
       "    </tr>\n",
       "    <tr>\n",
       "      <th>1</th>\n",
       "      <td>366.584189</td>\n",
       "      <td>466112.847081</td>\n",
       "      <td>466221.807028</td>\n",
       "      <td>2049.062520</td>\n",
       "      <td>553486.439144</td>\n",
       "      <td>7.912769e+05</td>\n",
       "      <td>0.000613</td>\n",
       "    </tr>\n",
       "  </tbody>\n",
       "</table>\n",
       "</div>"
      ],
      "text/plain": [
       "               step         amount  oldbalanceOrg  newbalanceOrig  \\\n",
       "isFraud                                                             \n",
       "0        242.656520  143096.271260  807857.894436   830215.275595   \n",
       "1        366.584189  466112.847081  466221.807028     2049.062520   \n",
       "\n",
       "         oldbalanceDest  newbalanceDest  isFlaggedFraud  \n",
       "isFraud                                                  \n",
       "0         994461.369861    1.077120e+06        0.000000  \n",
       "1         553486.439144    7.912769e+05        0.000613  "
      ]
     },
     "execution_count": 103,
     "metadata": {},
     "output_type": "execute_result"
    }
   ],
   "source": [
    "new_dataset.groupby('isFraud').mean()"
   ]
  },
  {
   "cell_type": "markdown",
   "id": "3da7686b",
   "metadata": {},
   "source": [
    "splitting the data into features and target"
   ]
  },
  {
   "cell_type": "code",
   "execution_count": 108,
   "id": "951183f6",
   "metadata": {},
   "outputs": [],
   "source": [
    "x=new_dataset.drop(['isFraud','newbalanceDest', 'newbalanceOrig'],axis=1)\n",
    "y=new_dataset['isFraud']"
   ]
  },
  {
   "cell_type": "code",
   "execution_count": 109,
   "id": "c4acbacb",
   "metadata": {},
   "outputs": [
    {
     "name": "stdout",
     "output_type": "stream",
     "text": [
      "         step      amount  oldbalanceOrg  oldbalanceDest  isFlaggedFraud\n",
      "5513955   380    46888.09       17473.41            0.00               0\n",
      "3706598   277    16106.00       12421.00            0.00               0\n",
      "1178610   132   672504.60      111145.00      1152440.39               0\n",
      "800733     40     5723.44           0.00            0.00               0\n",
      "4958403   351   109848.59      577560.79       531523.64               0\n",
      "...       ...         ...            ...             ...             ...\n",
      "6362613   743  1258818.82     1258818.82       503464.50               0\n",
      "6362614   743   339682.13      339682.13            0.00               0\n",
      "6362615   743   339682.13      339682.13            0.00               0\n",
      "6362618   743   850002.52      850002.52            0.00               0\n",
      "6362619   743   850002.52      850002.52      6510099.11               0\n",
      "\n",
      "[14740 rows x 5 columns]\n"
     ]
    }
   ],
   "source": [
    "print(x)"
   ]
  },
  {
   "cell_type": "code",
   "execution_count": 111,
   "id": "404d3861",
   "metadata": {},
   "outputs": [
    {
     "name": "stdout",
     "output_type": "stream",
     "text": [
      "5513955    0\n",
      "3706598    0\n",
      "1178610    0\n",
      "800733     0\n",
      "4958403    0\n",
      "          ..\n",
      "6362613    1\n",
      "6362614    1\n",
      "6362615    1\n",
      "6362618    1\n",
      "6362619    1\n",
      "Name: isFraud, Length: 14740, dtype: int64\n"
     ]
    }
   ],
   "source": [
    "print(y)"
   ]
  },
  {
   "cell_type": "markdown",
   "id": "b828c002",
   "metadata": {},
   "source": [
    "split the data into training data and testing data"
   ]
  },
  {
   "cell_type": "code",
   "execution_count": 112,
   "id": "c8f2044d",
   "metadata": {},
   "outputs": [
    {
     "name": "stdout",
     "output_type": "stream",
     "text": [
      "(14740, 5) (11792, 7) (2948, 7)\n"
     ]
    }
   ],
   "source": [
    "print(x.shape,x_train.shape,x_test.shape)"
   ]
  },
  {
   "cell_type": "markdown",
   "id": "a4301595",
   "metadata": {},
   "source": [
    "training the model using logistic regression because is gives better accuracy for binary values"
   ]
  },
  {
   "cell_type": "code",
   "execution_count": 113,
   "id": "efc07dee",
   "metadata": {},
   "outputs": [],
   "source": [
    "model=LogisticRegression()"
   ]
  },
  {
   "cell_type": "code",
   "execution_count": 114,
   "id": "7876736e",
   "metadata": {},
   "outputs": [
    {
     "data": {
      "text/plain": [
       "LogisticRegression()"
      ]
     },
     "execution_count": 114,
     "metadata": {},
     "output_type": "execute_result"
    }
   ],
   "source": [
    "#training the logistic regression model with training data\n",
    "model.fit(x_train,y_train)#x_train contains all the features and the y_train contains all the lables"
   ]
  },
  {
   "cell_type": "markdown",
   "id": "7d84659c",
   "metadata": {},
   "source": [
    "Evaluating our model"
   ]
  },
  {
   "cell_type": "code",
   "execution_count": 115,
   "id": "f6ac08a6",
   "metadata": {},
   "outputs": [],
   "source": [
    "#finding accuracy on training data\n",
    "x_train_prediction =model.predict(x_train)\n",
    "training_data_accuracy=accuracy_score(x_train_prediction,y_train)\n"
   ]
  },
  {
   "cell_type": "code",
   "execution_count": 116,
   "id": "331d6aee",
   "metadata": {},
   "outputs": [
    {
     "name": "stdout",
     "output_type": "stream",
     "text": [
      "accuracy on training data: 0.9508989145183175\n"
     ]
    }
   ],
   "source": [
    "print('accuracy on training data:', training_data_accuracy)"
   ]
  },
  {
   "cell_type": "code",
   "execution_count": 117,
   "id": "2950c714",
   "metadata": {},
   "outputs": [],
   "source": [
    "#accuracy on test data\n",
    "x_test_prediction=model.predict(x_test)\n",
    "test_data_accuracy=accuracy_score(x_test_prediction,y_test)"
   ]
  },
  {
   "cell_type": "code",
   "execution_count": 118,
   "id": "d11e7fe8",
   "metadata": {},
   "outputs": [
    {
     "name": "stdout",
     "output_type": "stream",
     "text": [
      "accuracy score of test data: 0.9470827679782904\n"
     ]
    }
   ],
   "source": [
    "print(\"accuracy score of test data:\",test_data_accuracy)"
   ]
  },
  {
   "cell_type": "markdown",
   "id": "aa967ab2",
   "metadata": {},
   "source": [
    "Candidate Expectations:\n",
    "1. Data cleaning including missing values, outliers and multi-collinearity.\n",
    "Ans:- Fraud.csv file was thoroughly checked for missing values , none were found. Outliners were found and were removed. the accuracy of the model improved by approximately 5 percent. multi collinearity was also found in multiple columns which were removed.\n",
    "2. Describe your fraud detection model in elaboration.\n",
    "Ans:- the steps involved in building my model are:-\n",
    "step 1:- loading csv files in to the data frame\n",
    "step 2:-data processing was done to improves the quality of the data. the steps involved in data processing are removing missing values, removing outliers and removing multi-collinearity.\n",
    "step 3:-after processing the data the logistic model is trained and tested based on the  values\n",
    "step 4:- finally the model is evaluated\n",
    "3. How did you select variables to be included in the model?\n",
    "Ans:- Amount is an excellent varibale which can be used to consider a transaction fraudelent or not.\n",
    "4. Demonstrate the performance of the model by using best set of tools.\n",
    "Ans:- I used accuracy to determine the performance of the model. The accuracy of the model came out to be above 94%.\n",
    "5. What are the key factors that predict fraudulent customer?\n",
    "Ans:-Transaction Amount , nameOrig , oldbalanceOrig are some features that can be used to detect fraud. there might be other factors included such as time of transaction etc.\n",
    "\n",
    "6. Do these factors make sense? If yes, How? If not, How not?\n",
    "Ans:- Yes these factors make sense.Checking for unusual money transfers: high amounts, mismatched names, big balance changes. Is a good way to check frauds.\n"
   ]
  },
  {
   "cell_type": "code",
   "execution_count": null,
   "id": "ebc0d30a",
   "metadata": {},
   "outputs": [],
   "source": []
  },
  {
   "cell_type": "code",
   "execution_count": 30,
   "id": "0d2b1577",
   "metadata": {},
   "outputs": [],
   "source": [
    "\n"
   ]
  },
  {
   "cell_type": "code",
   "execution_count": null,
   "id": "5310b159",
   "metadata": {},
   "outputs": [],
   "source": []
  },
  {
   "cell_type": "code",
   "execution_count": null,
   "id": "65269d4c",
   "metadata": {},
   "outputs": [],
   "source": []
  }
 ],
 "metadata": {
  "kernelspec": {
   "display_name": "Python 3 (ipykernel)",
   "language": "python",
   "name": "python3"
  },
  "language_info": {
   "codemirror_mode": {
    "name": "ipython",
    "version": 3
   },
   "file_extension": ".py",
   "mimetype": "text/x-python",
   "name": "python",
   "nbconvert_exporter": "python",
   "pygments_lexer": "ipython3",
   "version": "3.9.12"
  }
 },
 "nbformat": 4,
 "nbformat_minor": 5
}
